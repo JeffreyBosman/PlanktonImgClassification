{
 "cells": [
  {
   "cell_type": "code",
   "execution_count": 2,
   "metadata": {},
   "outputs": [],
   "source": [
    "from __future__ import print_function, division\n",
    "import os\n",
    "import time\n",
    "import copy\n",
    "import math\n",
    "import random \n",
    "import pandas as pd\n",
    "import numpy as np\n",
    "import matplotlib.pyplot as plt\n",
    "\n",
    "import torch\n",
    "from torch.utils import data\n",
    "from torch.utils.data import Dataset, DataLoader\n",
    "from torch.autograd import Variable\n",
    "import torch.nn as nn\n",
    "import torchvision\n",
    "import torchvision.datasets as dsets\n",
    "import torchvision.transforms as transforms\n",
    "import torch.optim as optim\n",
    "from torch.optim import lr_scheduler\n",
    "from torchvision import datasets, models, transforms\n",
    "\n",
    "from skimage import io, transform\n",
    "from skimage.transform import resize\n",
    "\n",
    "import cv2\n",
    "\n",
    "# Ignore warnings\n",
    "import warnings\n",
    "warnings.filterwarnings(\"ignore\")"
   ]
  },
  {
   "cell_type": "markdown",
   "metadata": {},
   "source": [
    "# Create dataset class"
   ]
  },
  {
   "cell_type": "code",
   "execution_count": 3,
   "metadata": {},
   "outputs": [],
   "source": [
    "class PlanktonDataset(data.Dataset):\n",
    "    'Characterizes a dataset for PyTorch'\n",
    "    def __init__(self, list_IDs, labels, img_dir, transform=None):\n",
    "        'Initialization'\n",
    "        self.labels = labels\n",
    "        self.list_IDs = list_IDs\n",
    "        self.transform = transform\n",
    "        self.img_dir = img_dir\n",
    "\n",
    "    def __len__(self):\n",
    "        'Denotes the total number of samples'\n",
    "        return len(self.list_IDs)\n",
    "\n",
    "    def __getitem__(self, index):\n",
    "        'Generates one sample of data'\n",
    "        \n",
    "        # Select sample\n",
    "        ID = self.list_IDs[index]\n",
    "        \n",
    "        img_name = os.path.join(self.img_dir,ID)\n",
    "        X = io.imread(img_name)\n",
    "        \n",
    "        if self.transform:\n",
    "            X = self.transform(X)\n",
    "        \n",
    "        y = self.labels[ID]\n",
    "\n",
    "        return X, y, img_name"
   ]
  },
  {
   "cell_type": "markdown",
   "metadata": {},
   "source": [
    "# Preprocessing\n",
    "These classes should return the image object."
   ]
  },
  {
   "cell_type": "code",
   "execution_count": 4,
   "metadata": {},
   "outputs": [],
   "source": [
    "class Rescale(object):\n",
    "    \"\"\"Rescale the image in a sample to a given size.\n",
    "\n",
    "    Args:\n",
    "        output_size (tuple or int): Desired output size. If tuple, output is\n",
    "            matched to output_size. If int, smaller of image edges is matched\n",
    "            to output_size keeping aspect ratio the same.\n",
    "    \"\"\"\n",
    "\n",
    "    def __init__(self, output_size):\n",
    "        assert isinstance(output_size, (int, tuple))\n",
    "        self.output_size = output_size\n",
    "\n",
    "    def __call__(self, image):\n",
    "        \n",
    "        h, w = image.shape\n",
    "        if isinstance(self.output_size, int):\n",
    "            if h > w:\n",
    "                new_h, new_w = self.output_size * h / w, self.output_size\n",
    "            else:\n",
    "                new_h, new_w = self.output_size, self.output_size * w / h\n",
    "        else:\n",
    "            new_h, new_w = self.output_size\n",
    "\n",
    "        new_h, new_w = int(new_h), int(new_w)\n",
    "\n",
    "        img = transform.resize(image, (new_h, new_w))\n",
    "\n",
    "        return img\n",
    "    \n",
    "class RandomCrop(object):\n",
    "    \"\"\"Crop randomly the image in a sample.\n",
    "\n",
    "    Args:\n",
    "        output_size (tuple or int): Desired output size. If int, square crop\n",
    "            is made.\n",
    "    \"\"\"\n",
    "\n",
    "    def __init__(self, output_size):\n",
    "        assert isinstance(output_size, (int, tuple))\n",
    "        if isinstance(output_size, int):\n",
    "            self.output_size = (output_size, output_size)\n",
    "        else:\n",
    "            assert len(output_size) == 2\n",
    "            self.output_size = output_size\n",
    "\n",
    "    def __call__(self, image):\n",
    "        h, w = image.shape[:2]\n",
    "        new_h, new_w = self.output_size\n",
    "\n",
    "        top = np.random.randint(0, h - new_h)\n",
    "        left = np.random.randint(0, w - new_w)\n",
    "\n",
    "        img = image[top: top + new_h,\n",
    "                      left: left + new_w]\n",
    "\n",
    "        return img\n",
    "    \n",
    "class ResizePadded(object):\n",
    "    \"\"\"Padd the image so it will be rectangular.\"\"\"\n",
    "    \n",
    "    def __init__(self, order=1):\n",
    "        self.order = order\n",
    "    \n",
    "    def __call__(self, image):\n",
    "        desired_size = max(image.shape)\n",
    "        old_size = image.shape\n",
    "\n",
    "        delta_w = desired_size - old_size[1]\n",
    "        delta_h = desired_size - old_size[0]\n",
    "        top, bottom = delta_h//2, delta_h-(delta_h//2)\n",
    "        left, right = delta_w//2, delta_w-(delta_w//2)\n",
    "        if (top <= 0):\n",
    "            top = 1\n",
    "        if (bottom <= 0):\n",
    "            bottom = 1\n",
    "        if (left <= 0):\n",
    "            left = 1\n",
    "        if (right <= 0):\n",
    "            right = 1\n",
    "            \n",
    "        color = [1, 1, 1]\n",
    "        new_im = cv2.copyMakeBorder(image, top, bottom, left, right, cv2.BORDER_CONSTANT,value=color)\n",
    "        return new_im\n",
    "\n",
    "class ToTensor(object):\n",
    "    \"\"\"Convert ndarrays in sample to Tensors.\"\"\"\n",
    "\n",
    "    def __call__(self, image):\n",
    "        # swap color axis because\n",
    "        # numpy image: H x W \n",
    "        # torch image: C X H X W\n",
    "        image = np.expand_dims(image, axis=0)\n",
    "        return torch.from_numpy(image)"
   ]
  },
  {
   "cell_type": "markdown",
   "metadata": {},
   "source": [
    "# Create training and validation sets"
   ]
  },
  {
   "cell_type": "code",
   "execution_count": 5,
   "metadata": {},
   "outputs": [],
   "source": [
    "# Training data\n",
    "training_data = pd.read_csv('train_onelabel.csv')\n",
    "IDs_train = training_data['image'].tolist()\n",
    "random.shuffle(IDs_train)\n",
    "\n",
    "# Labels of trained images  \n",
    "labels_train = dict(zip(training_data['image'], training_data['class']))\n",
    "\n",
    "# Testing data\n",
    "testing_data = pd.read_csv('sample.csv')\n",
    "IDs_test = testing_data['image'].tolist()\n",
    "\n",
    "# Labels of trained images  \n",
    "labels_test = dict(zip(testing_data['image'], testing_data['class']))\n",
    "\n",
    "partition = {}\n",
    "partition['train'] = IDs_train\n",
    "partition['validation'] = IDs_test"
   ]
  },
  {
   "cell_type": "markdown",
   "metadata": {},
   "source": [
    "# Create torch datasets"
   ]
  },
  {
   "cell_type": "code",
   "execution_count": 6,
   "metadata": {},
   "outputs": [],
   "source": [
    "# Parameters\n",
    "num_epochs = 50\n",
    "batch_size = 1000\n",
    "learning_rate = 0.001\n",
    "\n",
    "resize_scale = 70\n",
    "crop = 64\n",
    "padd_size = (400, 400)\n",
    "num_classes = pd.read_csv('label_map.txt',header=None).shape[0]"
   ]
  },
  {
   "cell_type": "code",
   "execution_count": 7,
   "metadata": {},
   "outputs": [],
   "source": [
    "# Training\n",
    "training_set = PlanktonDataset(partition['train'], \n",
    "                               labels_train, \n",
    "                               img_dir='train_images/')\n",
    "                            ##   transform=transforms.Compose([Rescale(resize_scale),RandomCrop(crop),ToTensor(),transforms.Normalize((0.5, 0.5, 0.5), (0.5, 0.5, 0.5))]))\n",
    "training_generator = data.DataLoader(dataset=training_set,\n",
    "                                           batch_size=batch_size,\n",
    "                                           shuffle=True)\n",
    "# Validation\n",
    "validation_set = PlanktonDataset(partition['validation'], \n",
    "                               labels_test, \n",
    "                               img_dir='test_images/')\n",
    "                               ##transform=transforms.Compose([Rescale(resize_scale),RandomCrop(crop),ToTensor(),transforms.Normalize((0.5, 0.5, 0.5), (0.5, 0.5, 0.5))]))\n",
    "validation_generator = data.DataLoader(dataset=validation_set,\n",
    "                                           batch_size=batch_size,\n",
    "                                           shuffle=True)"
   ]
  },
  {
   "cell_type": "markdown",
   "metadata": {},
   "source": [
    "# Testing if everything worked so far"
   ]
  },
  {
   "cell_type": "code",
   "execution_count": 7,
   "metadata": {},
   "outputs": [],
   "source": [
    "\n",
    "###LETOP LETOP LETOP\n",
    "\n",
    "## Onderstaande maakt voor nu geen sense, maar komt in de POSTER!!\n",
    "width_list = []\n",
    "length_list = []\n",
    "\n",
    "# How big is an image\n",
    "for i in range(int(len(training_set))):\n",
    "    image = training_set[i]\n",
    "    length_list.append(image[0].shape[0])\n",
    "    width_list.append(image[0].shape[1])\n",
    "    "
   ]
  },
  {
   "cell_type": "code",
   "execution_count": 22,
   "metadata": {},
   "outputs": [
    {
     "name": "stdout",
     "output_type": "stream",
     "text": [
      "73.32110394976037\n",
      "66.46897207073211\n"
     ]
    },
    {
     "data": {
      "image/png": "[encoded data removed]",
      "text/plain": [
       "<Figure size 432x288 with 1 Axes>"
      ]
     },
     "metadata": {},
     "output_type": "display_data"
    }
   ],
   "source": [
    "\n",
    "\n",
    "np.mean(width_list)\n",
    "np.mean(length_list)\n",
    "\n",
    "\n",
    "import seaborn as sns\n",
    "sns.set_style(\"darkgrid\")\n",
    "# sns.kdeplot(width_list, bw=0.5)\n",
    "\n",
    "\n",
    "\n",
    "p1=sns.kdeplot(width_list, shade=True, color=\"r\", label='Width')\n",
    "p1=sns.kdeplot(length_list, shade=True, color=\"b\", label= 'Height')\n",
    "p1.set_title('Distribution raw image size')\n",
    "p1.set_xlabel('Size')\n",
    "p1.legend()\n",
    "# savefig('size_distribution.png')\n",
    "\n",
    "print(np.mean(width_list))\n",
    "print(np.mean(length_list))\n"
   ]
  },
  {
   "cell_type": "code",
   "execution_count": 21,
   "metadata": {},
   "outputs": [
    {
     "name": "stderr",
     "output_type": "stream",
     "text": [
      "C:\\Users\\Jeffr\\Anaconda3\\lib\\site-packages\\skimage\\transform\\_warps.py:84: UserWarning: The default mode, 'constant', will be changed to 'reflect' in skimage 0.15.\n",
      "  warn(\"The default mode, 'constant', will be changed to 'reflect' in \"\n"
     ]
    },
    {
     "name": "stdout",
     "output_type": "stream",
     "text": [
      "torch.Size([1, 64, 64])\n"
     ]
    },
    {
     "name": "stderr",
     "output_type": "stream",
     "text": [
      "C:\\Users\\Jeffr\\Anaconda3\\lib\\site-packages\\skimage\\transform\\_warps.py:84: UserWarning: The default mode, 'constant', will be changed to 'reflect' in skimage 0.15.\n",
      "  warn(\"The default mode, 'constant', will be changed to 'reflect' in \"\n"
     ]
    },
    {
     "name": "stdout",
     "output_type": "stream",
     "text": [
      "torch.Size([1, 64, 64])\n"
     ]
    },
    {
     "name": "stderr",
     "output_type": "stream",
     "text": [
      "C:\\Users\\Jeffr\\Anaconda3\\lib\\site-packages\\skimage\\transform\\_warps.py:84: UserWarning: The default mode, 'constant', will be changed to 'reflect' in skimage 0.15.\n",
      "  warn(\"The default mode, 'constant', will be changed to 'reflect' in \"\n"
     ]
    },
    {
     "name": "stdout",
     "output_type": "stream",
     "text": [
      "torch.Size([1, 64, 64])\n"
     ]
    },
    {
     "name": "stderr",
     "output_type": "stream",
     "text": [
      "C:\\Users\\Jeffr\\Anaconda3\\lib\\site-packages\\skimage\\transform\\_warps.py:84: UserWarning: The default mode, 'constant', will be changed to 'reflect' in skimage 0.15.\n",
      "  warn(\"The default mode, 'constant', will be changed to 'reflect' in \"\n"
     ]
    },
    {
     "name": "stdout",
     "output_type": "stream",
     "text": [
      "torch.Size([1, 64, 64])\n"
     ]
    },
    {
     "data": {
      "image/png": "[encoded data removed]",
      "text/plain": [
       "<Figure size 432x288 with 4 Axes>"
      ]
     },
     "metadata": {},
     "output_type": "display_data"
    }
   ],
   "source": [
    "fig = plt.figure()\n",
    "\n",
    "for i in range(len(training_set)):\n",
    "    \n",
    "    sample = training_set[i+10]\n",
    "    x = sample[0]\n",
    "    ax = plt.subplot(1, 4, i + 1)\n",
    "    plt.tight_layout()\n",
    "    ax.set_title('Sample #{}'.format(i))\n",
    "    plt.imshow(sample[0][0,:,:],cmap='gray')\n",
    "    print(sample[0].shape)\n",
    "    if i == 3:\n",
    "        plt.show()\n",
    "        break "
   ]
  },
  {
   "cell_type": "markdown",
   "metadata": {},
   "source": [
    "# Initialise CNN model"
   ]
  },
  {
   "cell_type": "code",
   "execution_count": 28,
   "metadata": {},
   "outputs": [],
   "source": [
    "class CNN(nn.Module):\n",
    "    def __init__(self):\n",
    "        super(CNN, self).__init__()\n",
    "        self.layer1 = nn.Sequential(\n",
    "            nn.Conv2d(1, 16, kernel_size=3, padding=1),\n",
    "            nn.BatchNorm2d(16),\n",
    "            nn.ReLU(),\n",
    "            nn.MaxPool2d(2))\n",
    "        self.layer2 = nn.Sequential(\n",
    "            nn.Conv2d(16, 32, kernel_size=3, padding=1),\n",
    "            nn.BatchNorm2d(32),\n",
    "            nn.ReLU(),\n",
    "            nn.MaxPool2d(2))\n",
    "        self.layer3 = nn.Sequential(\n",
    "            nn.Conv2d(32, 64, kernel_size=3, padding=1),\n",
    "            nn.BatchNorm2d(64),\n",
    "            nn.ReLU(),\n",
    "            nn.MaxPool2d(2))\n",
    "        self.layer4 = nn.Sequential(\n",
    "            nn.Conv2d(64, 128, kernel_size=3, padding=1),\n",
    "            nn.BatchNorm2d(128),\n",
    "            nn.ReLU(),\n",
    "            nn.MaxPool2d(2))\n",
    "        self.layer5 = nn.Sequential(\n",
    "            nn.Conv2d(128, 256, kernel_size=3, padding=1),\n",
    "            nn.BatchNorm2d(256),\n",
    "            nn.ReLU(),\n",
    "            nn.MaxPool2d(2))\n",
    "        \n",
    "        self.fc = nn.Linear(2*2*256, num_classes)\n",
    "        \n",
    "    def forward(self, x):\n",
    "#         print(x.shape , '1')\n",
    "        out = self.layer1(x)\n",
    "#         print(out.shape , '2')\n",
    "        out = self.layer2(out)\n",
    "#         print(out.shape , '3')\n",
    "        out = self.layer3(out)\n",
    "\n",
    "        out = self.layer4(out)\n",
    "        out = self.layer5(out)\n",
    "        out = out.view(out.size(0), -1)\n",
    "#         print(out.shape , '4')\n",
    "        out = self.fc(out)\n",
    "        return out"
   ]
  },
  {
   "cell_type": "code",
   "execution_count": null,
   "metadata": {},
   "outputs": [],
   "source": []
  },
  {
   "cell_type": "code",
   "execution_count": null,
   "metadata": {},
   "outputs": [],
   "source": []
  },
  {
   "cell_type": "code",
   "execution_count": null,
   "metadata": {},
   "outputs": [],
   "source": []
  },
  {
   "cell_type": "markdown",
   "metadata": {},
   "source": [
    "# Train CNN"
   ]
  },
  {
   "cell_type": "code",
   "execution_count": 30,
   "metadata": {},
   "outputs": [
    {
     "name": "stdout",
     "output_type": "stream",
     "text": [
      "Epoch : 1/50, Iter : 5/0,  Loss: 3.7659\n",
      "Epoch : 1/50, Iter : 10/0,  Loss: 3.3093\n",
      "Epoch : 1/50, Iter : 15/0,  Loss: 3.0820\n",
      "Epoch : 1/50, Iter : 20/0,  Loss: 2.8346\n",
      "Epoch : 1/50, Iter : 25/0,  Loss: 2.5610\n",
      "Epoch : 2/50, Iter : 5/0,  Loss: 2.4429\n",
      "Epoch : 2/50, Iter : 10/0,  Loss: 2.3471\n",
      "Epoch : 2/50, Iter : 15/0,  Loss: 2.2492\n",
      "Epoch : 2/50, Iter : 20/0,  Loss: 2.0847\n",
      "Epoch : 2/50, Iter : 25/0,  Loss: 2.0030\n",
      "Epoch : 3/50, Iter : 5/0,  Loss: 1.9935\n",
      "Epoch : 3/50, Iter : 10/0,  Loss: 1.9713\n",
      "Epoch : 3/50, Iter : 15/0,  Loss: 1.8531\n",
      "Epoch : 3/50, Iter : 20/0,  Loss: 1.9303\n",
      "Epoch : 3/50, Iter : 25/0,  Loss: 1.8186\n",
      "Epoch : 4/50, Iter : 5/0,  Loss: 1.8921\n",
      "Epoch : 4/50, Iter : 10/0,  Loss: 1.7099\n",
      "Epoch : 4/50, Iter : 15/0,  Loss: 1.7682\n",
      "Epoch : 4/50, Iter : 20/0,  Loss: 1.7582\n",
      "Epoch : 4/50, Iter : 25/0,  Loss: 1.6289\n",
      "Epoch : 5/50, Iter : 5/0,  Loss: 1.6616\n",
      "Epoch : 5/50, Iter : 10/0,  Loss: 1.6295\n",
      "Epoch : 5/50, Iter : 15/0,  Loss: 1.6024\n",
      "Epoch : 5/50, Iter : 20/0,  Loss: 1.5674\n",
      "Epoch : 5/50, Iter : 25/0,  Loss: 1.5142\n",
      "Epoch : 6/50, Iter : 5/0,  Loss: 1.4512\n",
      "Epoch : 6/50, Iter : 10/0,  Loss: 1.5343\n",
      "Epoch : 6/50, Iter : 15/0,  Loss: 1.5267\n",
      "Epoch : 6/50, Iter : 20/0,  Loss: 1.3512\n",
      "Epoch : 6/50, Iter : 25/0,  Loss: 1.3711\n",
      "Epoch : 7/50, Iter : 5/0,  Loss: 1.4167\n",
      "Epoch : 7/50, Iter : 10/0,  Loss: 1.4213\n",
      "Epoch : 7/50, Iter : 15/0,  Loss: 1.3898\n",
      "Epoch : 7/50, Iter : 20/0,  Loss: 1.3846\n",
      "Epoch : 7/50, Iter : 25/0,  Loss: 1.4814\n",
      "Epoch : 8/50, Iter : 5/0,  Loss: 1.3450\n",
      "Epoch : 8/50, Iter : 10/0,  Loss: 1.2633\n",
      "Epoch : 8/50, Iter : 15/0,  Loss: 1.4015\n",
      "Epoch : 8/50, Iter : 20/0,  Loss: 1.2675\n",
      "Epoch : 8/50, Iter : 25/0,  Loss: 1.2695\n",
      "Epoch : 9/50, Iter : 5/0,  Loss: 1.2935\n",
      "Epoch : 9/50, Iter : 10/0,  Loss: 1.2776\n",
      "Epoch : 9/50, Iter : 15/0,  Loss: 1.2211\n",
      "Epoch : 9/50, Iter : 20/0,  Loss: 1.2273\n",
      "Epoch : 9/50, Iter : 25/0,  Loss: 1.1770\n",
      "Epoch : 10/50, Iter : 5/0,  Loss: 1.2560\n",
      "Epoch : 10/50, Iter : 10/0,  Loss: 1.1291\n",
      "Epoch : 10/50, Iter : 15/0,  Loss: 1.2007\n",
      "Epoch : 10/50, Iter : 20/0,  Loss: 1.1872\n",
      "Epoch : 10/50, Iter : 25/0,  Loss: 1.0187\n",
      "Epoch : 11/50, Iter : 5/0,  Loss: 1.1044\n",
      "Epoch : 11/50, Iter : 10/0,  Loss: 1.1531\n",
      "Epoch : 11/50, Iter : 15/0,  Loss: 1.1147\n",
      "Epoch : 11/50, Iter : 20/0,  Loss: 1.1117\n",
      "Epoch : 11/50, Iter : 25/0,  Loss: 1.2089\n",
      "Epoch : 12/50, Iter : 5/0,  Loss: 1.0571\n",
      "Epoch : 12/50, Iter : 10/0,  Loss: 1.2629\n",
      "Epoch : 12/50, Iter : 15/0,  Loss: 1.1340\n",
      "Epoch : 12/50, Iter : 20/0,  Loss: 1.0638\n",
      "Epoch : 12/50, Iter : 25/0,  Loss: 1.1791\n",
      "Epoch : 13/50, Iter : 5/0,  Loss: 1.1615\n",
      "Epoch : 13/50, Iter : 10/0,  Loss: 1.0721\n",
      "Epoch : 13/50, Iter : 15/0,  Loss: 1.0927\n",
      "Epoch : 13/50, Iter : 20/0,  Loss: 1.0901\n",
      "Epoch : 13/50, Iter : 25/0,  Loss: 1.0460\n",
      "Epoch : 14/50, Iter : 5/0,  Loss: 1.0317\n",
      "Epoch : 14/50, Iter : 10/0,  Loss: 1.0255\n",
      "Epoch : 14/50, Iter : 15/0,  Loss: 1.0309\n",
      "Epoch : 14/50, Iter : 20/0,  Loss: 1.0889\n",
      "Epoch : 14/50, Iter : 25/0,  Loss: 1.0730\n",
      "Epoch : 15/50, Iter : 5/0,  Loss: 0.9939\n",
      "Epoch : 15/50, Iter : 10/0,  Loss: 1.0609\n",
      "Epoch : 15/50, Iter : 15/0,  Loss: 1.0786\n",
      "Epoch : 15/50, Iter : 20/0,  Loss: 1.0334\n",
      "Epoch : 15/50, Iter : 25/0,  Loss: 1.1722\n",
      "Epoch : 16/50, Iter : 5/0,  Loss: 0.9351\n",
      "Epoch : 16/50, Iter : 10/0,  Loss: 1.0630\n",
      "Epoch : 16/50, Iter : 15/0,  Loss: 1.0631\n",
      "Epoch : 16/50, Iter : 20/0,  Loss: 0.9598\n",
      "Epoch : 16/50, Iter : 25/0,  Loss: 1.0258\n",
      "Epoch : 17/50, Iter : 5/0,  Loss: 1.0252\n",
      "Epoch : 17/50, Iter : 10/0,  Loss: 0.9440\n",
      "Epoch : 17/50, Iter : 15/0,  Loss: 1.0310\n",
      "Epoch : 17/50, Iter : 20/0,  Loss: 0.9035\n",
      "Epoch : 17/50, Iter : 25/0,  Loss: 0.9638\n",
      "Epoch : 18/50, Iter : 5/0,  Loss: 1.0057\n",
      "Epoch : 18/50, Iter : 10/0,  Loss: 0.9072\n",
      "Epoch : 18/50, Iter : 15/0,  Loss: 1.0164\n",
      "Epoch : 18/50, Iter : 20/0,  Loss: 0.9010\n",
      "Epoch : 18/50, Iter : 25/0,  Loss: 0.8616\n",
      "Epoch : 19/50, Iter : 5/0,  Loss: 0.9590\n",
      "Epoch : 19/50, Iter : 10/0,  Loss: 1.0091\n",
      "Epoch : 19/50, Iter : 15/0,  Loss: 1.0097\n",
      "Epoch : 19/50, Iter : 20/0,  Loss: 0.9289\n",
      "Epoch : 19/50, Iter : 25/0,  Loss: 0.9729\n",
      "Epoch : 20/50, Iter : 5/0,  Loss: 0.8795\n",
      "Epoch : 20/50, Iter : 10/0,  Loss: 0.9587\n",
      "Epoch : 20/50, Iter : 15/0,  Loss: 0.8978\n",
      "Epoch : 20/50, Iter : 20/0,  Loss: 0.9621\n",
      "Epoch : 20/50, Iter : 25/0,  Loss: 0.8063\n",
      "Epoch : 21/50, Iter : 5/0,  Loss: 0.8939\n",
      "Epoch : 21/50, Iter : 10/0,  Loss: 0.8513\n",
      "Epoch : 21/50, Iter : 15/0,  Loss: 0.8055\n",
      "Epoch : 21/50, Iter : 20/0,  Loss: 0.8610\n",
      "Epoch : 21/50, Iter : 25/0,  Loss: 0.8106\n",
      "Epoch : 22/50, Iter : 5/0,  Loss: 0.8502\n",
      "Epoch : 22/50, Iter : 10/0,  Loss: 0.7816\n",
      "Epoch : 22/50, Iter : 15/0,  Loss: 0.8596\n",
      "Epoch : 22/50, Iter : 20/0,  Loss: 0.8975\n",
      "Epoch : 22/50, Iter : 25/0,  Loss: 0.9627\n",
      "Epoch : 23/50, Iter : 5/0,  Loss: 0.8393\n",
      "Epoch : 23/50, Iter : 10/0,  Loss: 0.8444\n",
      "Epoch : 23/50, Iter : 15/0,  Loss: 0.8161\n",
      "Epoch : 23/50, Iter : 20/0,  Loss: 0.8552\n",
      "Epoch : 23/50, Iter : 25/0,  Loss: 0.9638\n",
      "Epoch : 24/50, Iter : 5/0,  Loss: 0.8037\n",
      "Epoch : 24/50, Iter : 10/0,  Loss: 0.7856\n",
      "Epoch : 24/50, Iter : 15/0,  Loss: 0.8376\n",
      "Epoch : 24/50, Iter : 20/0,  Loss: 0.8015\n",
      "Epoch : 24/50, Iter : 25/0,  Loss: 0.9625\n",
      "Epoch : 25/50, Iter : 5/0,  Loss: 0.8360\n",
      "Epoch : 25/50, Iter : 10/0,  Loss: 0.8075\n",
      "Epoch : 25/50, Iter : 15/0,  Loss: 0.7468\n",
      "Epoch : 25/50, Iter : 20/0,  Loss: 0.7897\n",
      "Epoch : 25/50, Iter : 25/0,  Loss: 0.7208\n",
      "Epoch : 26/50, Iter : 5/0,  Loss: 0.7198\n",
      "Epoch : 26/50, Iter : 10/0,  Loss: 0.7887\n",
      "Epoch : 26/50, Iter : 15/0,  Loss: 0.7848\n",
      "Epoch : 26/50, Iter : 20/0,  Loss: 0.7827\n",
      "Epoch : 26/50, Iter : 25/0,  Loss: 0.9094\n",
      "Epoch : 27/50, Iter : 5/0,  Loss: 0.7460\n",
      "Epoch : 27/50, Iter : 10/0,  Loss: 0.7641\n",
      "Epoch : 27/50, Iter : 15/0,  Loss: 0.7274\n",
      "Epoch : 27/50, Iter : 20/0,  Loss: 0.7572\n",
      "Epoch : 27/50, Iter : 25/0,  Loss: 0.7554\n",
      "Epoch : 28/50, Iter : 5/0,  Loss: 0.7892\n",
      "Epoch : 28/50, Iter : 10/0,  Loss: 0.7721\n",
      "Epoch : 28/50, Iter : 15/0,  Loss: 0.7332\n",
      "Epoch : 28/50, Iter : 20/0,  Loss: 0.7714\n",
      "Epoch : 28/50, Iter : 25/0,  Loss: 0.6774\n",
      "Epoch : 29/50, Iter : 5/0,  Loss: 0.7023\n",
      "Epoch : 29/50, Iter : 10/0,  Loss: 0.7538\n",
      "Epoch : 29/50, Iter : 15/0,  Loss: 0.6976\n",
      "Epoch : 29/50, Iter : 20/0,  Loss: 0.7211\n",
      "Epoch : 29/50, Iter : 25/0,  Loss: 0.7931\n",
      "Epoch : 30/50, Iter : 5/0,  Loss: 0.7418\n",
      "Epoch : 30/50, Iter : 10/0,  Loss: 0.6632\n",
      "Epoch : 30/50, Iter : 15/0,  Loss: 0.6727\n",
      "Epoch : 30/50, Iter : 20/0,  Loss: 0.7691\n",
      "Epoch : 30/50, Iter : 25/0,  Loss: 0.8440\n",
      "Epoch : 31/50, Iter : 5/0,  Loss: 0.7093\n",
      "Epoch : 31/50, Iter : 10/0,  Loss: 0.6828\n",
      "Epoch : 31/50, Iter : 15/0,  Loss: 0.6891\n",
      "Epoch : 31/50, Iter : 20/0,  Loss: 0.7392\n",
      "Epoch : 31/50, Iter : 25/0,  Loss: 0.7814\n",
      "Epoch : 32/50, Iter : 5/0,  Loss: 0.7044\n",
      "Epoch : 32/50, Iter : 10/0,  Loss: 0.7114\n",
      "Epoch : 32/50, Iter : 15/0,  Loss: 0.7288\n",
      "Epoch : 32/50, Iter : 20/0,  Loss: 0.6641\n",
      "Epoch : 32/50, Iter : 25/0,  Loss: 0.7148\n",
      "Epoch : 33/50, Iter : 5/0,  Loss: 0.6847\n",
      "Epoch : 33/50, Iter : 10/0,  Loss: 0.6690\n",
      "Epoch : 33/50, Iter : 15/0,  Loss: 0.6672\n",
      "Epoch : 33/50, Iter : 20/0,  Loss: 0.6927\n",
      "Epoch : 33/50, Iter : 25/0,  Loss: 0.7523\n",
      "Epoch : 34/50, Iter : 5/0,  Loss: 0.6454\n",
      "Epoch : 34/50, Iter : 10/0,  Loss: 0.6782\n",
      "Epoch : 34/50, Iter : 15/0,  Loss: 0.6743\n",
      "Epoch : 34/50, Iter : 20/0,  Loss: 0.7011\n",
      "Epoch : 34/50, Iter : 25/0,  Loss: 0.5911\n",
      "Epoch : 35/50, Iter : 5/0,  Loss: 0.6161\n",
      "Epoch : 35/50, Iter : 10/0,  Loss: 0.6312\n",
      "Epoch : 35/50, Iter : 15/0,  Loss: 0.6161\n",
      "Epoch : 35/50, Iter : 20/0,  Loss: 0.5890\n",
      "Epoch : 35/50, Iter : 25/0,  Loss: 0.7997\n",
      "Epoch : 36/50, Iter : 5/0,  Loss: 0.6282\n",
      "Epoch : 36/50, Iter : 10/0,  Loss: 0.6489\n",
      "Epoch : 36/50, Iter : 15/0,  Loss: 0.6550\n",
      "Epoch : 36/50, Iter : 20/0,  Loss: 0.6790\n",
      "Epoch : 36/50, Iter : 25/0,  Loss: 0.5926\n",
      "Epoch : 37/50, Iter : 5/0,  Loss: 0.5597\n",
      "Epoch : 37/50, Iter : 10/0,  Loss: 0.5947\n",
      "Epoch : 37/50, Iter : 15/0,  Loss: 0.5991\n",
      "Epoch : 37/50, Iter : 20/0,  Loss: 0.6113\n",
      "Epoch : 37/50, Iter : 25/0,  Loss: 0.6097\n",
      "Epoch : 38/50, Iter : 5/0,  Loss: 0.6236\n",
      "Epoch : 38/50, Iter : 10/0,  Loss: 0.5504\n",
      "Epoch : 38/50, Iter : 15/0,  Loss: 0.6181\n",
      "Epoch : 38/50, Iter : 20/0,  Loss: 0.6487\n",
      "Epoch : 38/50, Iter : 25/0,  Loss: 0.7141\n",
      "Epoch : 39/50, Iter : 5/0,  Loss: 0.5539\n",
      "Epoch : 39/50, Iter : 10/0,  Loss: 0.6330\n",
      "Epoch : 39/50, Iter : 15/0,  Loss: 0.5625\n",
      "Epoch : 39/50, Iter : 20/0,  Loss: 0.6289\n",
      "Epoch : 39/50, Iter : 25/0,  Loss: 0.5772\n",
      "Epoch : 40/50, Iter : 5/0,  Loss: 0.4805\n",
      "Epoch : 40/50, Iter : 10/0,  Loss: 0.5475\n",
      "Epoch : 40/50, Iter : 15/0,  Loss: 0.5851\n",
      "Epoch : 40/50, Iter : 20/0,  Loss: 0.6437\n",
      "Epoch : 40/50, Iter : 25/0,  Loss: 0.6826\n",
      "Epoch : 41/50, Iter : 5/0,  Loss: 0.5137\n",
      "Epoch : 41/50, Iter : 10/0,  Loss: 0.5817\n",
      "Epoch : 41/50, Iter : 15/0,  Loss: 0.5892\n",
      "Epoch : 41/50, Iter : 20/0,  Loss: 0.5915\n",
      "Epoch : 41/50, Iter : 25/0,  Loss: 0.6087\n",
      "Epoch : 42/50, Iter : 5/0,  Loss: 0.4882\n",
      "Epoch : 42/50, Iter : 10/0,  Loss: 0.5173\n",
      "Epoch : 42/50, Iter : 15/0,  Loss: 0.5531\n",
      "Epoch : 42/50, Iter : 20/0,  Loss: 0.5537\n",
      "Epoch : 42/50, Iter : 25/0,  Loss: 0.5402\n",
      "Epoch : 43/50, Iter : 5/0,  Loss: 0.5184\n",
      "Epoch : 43/50, Iter : 10/0,  Loss: 0.5427\n",
      "Epoch : 43/50, Iter : 15/0,  Loss: 0.5361\n",
      "Epoch : 43/50, Iter : 20/0,  Loss: 0.5391\n",
      "Epoch : 43/50, Iter : 25/0,  Loss: 0.5134\n",
      "Epoch : 44/50, Iter : 5/0,  Loss: 0.4959\n",
      "Epoch : 44/50, Iter : 10/0,  Loss: 0.5894\n",
      "Epoch : 44/50, Iter : 15/0,  Loss: 0.5275\n",
      "Epoch : 44/50, Iter : 20/0,  Loss: 0.5131\n",
      "Epoch : 44/50, Iter : 25/0,  Loss: 0.5342\n",
      "Epoch : 45/50, Iter : 5/0,  Loss: 0.5307\n",
      "Epoch : 45/50, Iter : 10/0,  Loss: 0.5063\n",
      "Epoch : 45/50, Iter : 15/0,  Loss: 0.5024\n"
     ]
    },
    {
     "ename": "KeyboardInterrupt",
     "evalue": "",
     "output_type": "error",
     "traceback": [
      "\u001b[1;31m---------------------------------------------------------------------------\u001b[0m",
      "\u001b[1;31mKeyboardInterrupt\u001b[0m                         Traceback (most recent call last)",
      "\u001b[1;32m<ipython-input-30-37a4d40ae549>\u001b[0m in \u001b[0;36m<module>\u001b[1;34m()\u001b[0m\n\u001b[0;32m      8\u001b[0m \u001b[0mlosses\u001b[0m \u001b[1;33m=\u001b[0m \u001b[1;33m[\u001b[0m\u001b[1;33m]\u001b[0m\u001b[1;33m;\u001b[0m\u001b[1;33m\u001b[0m\u001b[0m\n\u001b[0;32m      9\u001b[0m \u001b[1;32mfor\u001b[0m \u001b[0mepoch\u001b[0m \u001b[1;32min\u001b[0m \u001b[0mrange\u001b[0m\u001b[1;33m(\u001b[0m\u001b[0mnum_epochs\u001b[0m\u001b[1;33m)\u001b[0m\u001b[1;33m:\u001b[0m\u001b[1;33m\u001b[0m\u001b[0m\n\u001b[1;32m---> 10\u001b[1;33m     \u001b[1;32mfor\u001b[0m \u001b[0mi\u001b[0m\u001b[1;33m,\u001b[0m \u001b[1;33m(\u001b[0m\u001b[0mimages\u001b[0m\u001b[1;33m,\u001b[0m \u001b[0mlabels\u001b[0m\u001b[1;33m,\u001b[0m \u001b[0mids\u001b[0m\u001b[1;33m)\u001b[0m \u001b[1;32min\u001b[0m \u001b[0menumerate\u001b[0m\u001b[1;33m(\u001b[0m\u001b[0mtraining_generator\u001b[0m\u001b[1;33m)\u001b[0m\u001b[1;33m:\u001b[0m\u001b[1;33m\u001b[0m\u001b[0m\n\u001b[0m\u001b[0;32m     11\u001b[0m         \u001b[0mimages\u001b[0m \u001b[1;33m=\u001b[0m \u001b[0mVariable\u001b[0m\u001b[1;33m(\u001b[0m\u001b[0mimages\u001b[0m\u001b[1;33m.\u001b[0m\u001b[0mfloat\u001b[0m\u001b[1;33m(\u001b[0m\u001b[1;33m)\u001b[0m\u001b[1;33m)\u001b[0m\u001b[1;33m\u001b[0m\u001b[0m\n\u001b[0;32m     12\u001b[0m         \u001b[0mlabels\u001b[0m \u001b[1;33m=\u001b[0m \u001b[0mVariable\u001b[0m\u001b[1;33m(\u001b[0m\u001b[0mlabels\u001b[0m\u001b[1;33m)\u001b[0m\u001b[1;33m\u001b[0m\u001b[0m\n",
      "\u001b[1;32m~\\Anaconda3\\lib\\site-packages\\torch\\utils\\data\\dataloader.py\u001b[0m in \u001b[0;36m__next__\u001b[1;34m(self)\u001b[0m\n\u001b[0;32m    312\u001b[0m         \u001b[1;32mif\u001b[0m \u001b[0mself\u001b[0m\u001b[1;33m.\u001b[0m\u001b[0mnum_workers\u001b[0m \u001b[1;33m==\u001b[0m \u001b[1;36m0\u001b[0m\u001b[1;33m:\u001b[0m  \u001b[1;31m# same-process loading\u001b[0m\u001b[1;33m\u001b[0m\u001b[0m\n\u001b[0;32m    313\u001b[0m             \u001b[0mindices\u001b[0m \u001b[1;33m=\u001b[0m \u001b[0mnext\u001b[0m\u001b[1;33m(\u001b[0m\u001b[0mself\u001b[0m\u001b[1;33m.\u001b[0m\u001b[0msample_iter\u001b[0m\u001b[1;33m)\u001b[0m  \u001b[1;31m# may raise StopIteration\u001b[0m\u001b[1;33m\u001b[0m\u001b[0m\n\u001b[1;32m--> 314\u001b[1;33m             \u001b[0mbatch\u001b[0m \u001b[1;33m=\u001b[0m \u001b[0mself\u001b[0m\u001b[1;33m.\u001b[0m\u001b[0mcollate_fn\u001b[0m\u001b[1;33m(\u001b[0m\u001b[1;33m[\u001b[0m\u001b[0mself\u001b[0m\u001b[1;33m.\u001b[0m\u001b[0mdataset\u001b[0m\u001b[1;33m[\u001b[0m\u001b[0mi\u001b[0m\u001b[1;33m]\u001b[0m \u001b[1;32mfor\u001b[0m \u001b[0mi\u001b[0m \u001b[1;32min\u001b[0m \u001b[0mindices\u001b[0m\u001b[1;33m]\u001b[0m\u001b[1;33m)\u001b[0m\u001b[1;33m\u001b[0m\u001b[0m\n\u001b[0m\u001b[0;32m    315\u001b[0m             \u001b[1;32mif\u001b[0m \u001b[0mself\u001b[0m\u001b[1;33m.\u001b[0m\u001b[0mpin_memory\u001b[0m\u001b[1;33m:\u001b[0m\u001b[1;33m\u001b[0m\u001b[0m\n\u001b[0;32m    316\u001b[0m                 \u001b[0mbatch\u001b[0m \u001b[1;33m=\u001b[0m \u001b[0mpin_memory_batch\u001b[0m\u001b[1;33m(\u001b[0m\u001b[0mbatch\u001b[0m\u001b[1;33m)\u001b[0m\u001b[1;33m\u001b[0m\u001b[0m\n",
      "\u001b[1;32m~\\Anaconda3\\lib\\site-packages\\torch\\utils\\data\\dataloader.py\u001b[0m in \u001b[0;36m<listcomp>\u001b[1;34m(.0)\u001b[0m\n\u001b[0;32m    312\u001b[0m         \u001b[1;32mif\u001b[0m \u001b[0mself\u001b[0m\u001b[1;33m.\u001b[0m\u001b[0mnum_workers\u001b[0m \u001b[1;33m==\u001b[0m \u001b[1;36m0\u001b[0m\u001b[1;33m:\u001b[0m  \u001b[1;31m# same-process loading\u001b[0m\u001b[1;33m\u001b[0m\u001b[0m\n\u001b[0;32m    313\u001b[0m             \u001b[0mindices\u001b[0m \u001b[1;33m=\u001b[0m \u001b[0mnext\u001b[0m\u001b[1;33m(\u001b[0m\u001b[0mself\u001b[0m\u001b[1;33m.\u001b[0m\u001b[0msample_iter\u001b[0m\u001b[1;33m)\u001b[0m  \u001b[1;31m# may raise StopIteration\u001b[0m\u001b[1;33m\u001b[0m\u001b[0m\n\u001b[1;32m--> 314\u001b[1;33m             \u001b[0mbatch\u001b[0m \u001b[1;33m=\u001b[0m \u001b[0mself\u001b[0m\u001b[1;33m.\u001b[0m\u001b[0mcollate_fn\u001b[0m\u001b[1;33m(\u001b[0m\u001b[1;33m[\u001b[0m\u001b[0mself\u001b[0m\u001b[1;33m.\u001b[0m\u001b[0mdataset\u001b[0m\u001b[1;33m[\u001b[0m\u001b[0mi\u001b[0m\u001b[1;33m]\u001b[0m \u001b[1;32mfor\u001b[0m \u001b[0mi\u001b[0m \u001b[1;32min\u001b[0m \u001b[0mindices\u001b[0m\u001b[1;33m]\u001b[0m\u001b[1;33m)\u001b[0m\u001b[1;33m\u001b[0m\u001b[0m\n\u001b[0m\u001b[0;32m    315\u001b[0m             \u001b[1;32mif\u001b[0m \u001b[0mself\u001b[0m\u001b[1;33m.\u001b[0m\u001b[0mpin_memory\u001b[0m\u001b[1;33m:\u001b[0m\u001b[1;33m\u001b[0m\u001b[0m\n\u001b[0;32m    316\u001b[0m                 \u001b[0mbatch\u001b[0m \u001b[1;33m=\u001b[0m \u001b[0mpin_memory_batch\u001b[0m\u001b[1;33m(\u001b[0m\u001b[0mbatch\u001b[0m\u001b[1;33m)\u001b[0m\u001b[1;33m\u001b[0m\u001b[0m\n",
      "\u001b[1;32m<ipython-input-2-7517d921d41b>\u001b[0m in \u001b[0;36m__getitem__\u001b[1;34m(self, index)\u001b[0m\n\u001b[0;32m     19\u001b[0m \u001b[1;33m\u001b[0m\u001b[0m\n\u001b[0;32m     20\u001b[0m         \u001b[0mimg_name\u001b[0m \u001b[1;33m=\u001b[0m \u001b[0mos\u001b[0m\u001b[1;33m.\u001b[0m\u001b[0mpath\u001b[0m\u001b[1;33m.\u001b[0m\u001b[0mjoin\u001b[0m\u001b[1;33m(\u001b[0m\u001b[0mself\u001b[0m\u001b[1;33m.\u001b[0m\u001b[0mimg_dir\u001b[0m\u001b[1;33m,\u001b[0m\u001b[0mID\u001b[0m\u001b[1;33m)\u001b[0m\u001b[1;33m\u001b[0m\u001b[0m\n\u001b[1;32m---> 21\u001b[1;33m         \u001b[0mX\u001b[0m \u001b[1;33m=\u001b[0m \u001b[0mio\u001b[0m\u001b[1;33m.\u001b[0m\u001b[0mimread\u001b[0m\u001b[1;33m(\u001b[0m\u001b[0mimg_name\u001b[0m\u001b[1;33m)\u001b[0m\u001b[1;33m\u001b[0m\u001b[0m\n\u001b[0m\u001b[0;32m     22\u001b[0m \u001b[1;33m\u001b[0m\u001b[0m\n\u001b[0;32m     23\u001b[0m         \u001b[1;32mif\u001b[0m \u001b[0mself\u001b[0m\u001b[1;33m.\u001b[0m\u001b[0mtransform\u001b[0m\u001b[1;33m:\u001b[0m\u001b[1;33m\u001b[0m\u001b[0m\n",
      "\u001b[1;32m~\\Anaconda3\\lib\\site-packages\\skimage\\io\\_io.py\u001b[0m in \u001b[0;36mimread\u001b[1;34m(fname, as_grey, plugin, flatten, **plugin_args)\u001b[0m\n\u001b[0;32m     59\u001b[0m \u001b[1;33m\u001b[0m\u001b[0m\n\u001b[0;32m     60\u001b[0m     \u001b[1;32mwith\u001b[0m \u001b[0mfile_or_url_context\u001b[0m\u001b[1;33m(\u001b[0m\u001b[0mfname\u001b[0m\u001b[1;33m)\u001b[0m \u001b[1;32mas\u001b[0m \u001b[0mfname\u001b[0m\u001b[1;33m:\u001b[0m\u001b[1;33m\u001b[0m\u001b[0m\n\u001b[1;32m---> 61\u001b[1;33m         \u001b[0mimg\u001b[0m \u001b[1;33m=\u001b[0m \u001b[0mcall_plugin\u001b[0m\u001b[1;33m(\u001b[0m\u001b[1;34m'imread'\u001b[0m\u001b[1;33m,\u001b[0m \u001b[0mfname\u001b[0m\u001b[1;33m,\u001b[0m \u001b[0mplugin\u001b[0m\u001b[1;33m=\u001b[0m\u001b[0mplugin\u001b[0m\u001b[1;33m,\u001b[0m \u001b[1;33m**\u001b[0m\u001b[0mplugin_args\u001b[0m\u001b[1;33m)\u001b[0m\u001b[1;33m\u001b[0m\u001b[0m\n\u001b[0m\u001b[0;32m     62\u001b[0m \u001b[1;33m\u001b[0m\u001b[0m\n\u001b[0;32m     63\u001b[0m     \u001b[1;32mif\u001b[0m \u001b[1;32mnot\u001b[0m \u001b[0mhasattr\u001b[0m\u001b[1;33m(\u001b[0m\u001b[0mimg\u001b[0m\u001b[1;33m,\u001b[0m \u001b[1;34m'ndim'\u001b[0m\u001b[1;33m)\u001b[0m\u001b[1;33m:\u001b[0m\u001b[1;33m\u001b[0m\u001b[0m\n",
      "\u001b[1;32m~\\Anaconda3\\lib\\site-packages\\skimage\\io\\manage_plugins.py\u001b[0m in \u001b[0;36mcall_plugin\u001b[1;34m(kind, *args, **kwargs)\u001b[0m\n\u001b[0;32m    209\u001b[0m                                (plugin, kind))\n\u001b[0;32m    210\u001b[0m \u001b[1;33m\u001b[0m\u001b[0m\n\u001b[1;32m--> 211\u001b[1;33m     \u001b[1;32mreturn\u001b[0m \u001b[0mfunc\u001b[0m\u001b[1;33m(\u001b[0m\u001b[1;33m*\u001b[0m\u001b[0margs\u001b[0m\u001b[1;33m,\u001b[0m \u001b[1;33m**\u001b[0m\u001b[0mkwargs\u001b[0m\u001b[1;33m)\u001b[0m\u001b[1;33m\u001b[0m\u001b[0m\n\u001b[0m\u001b[0;32m    212\u001b[0m \u001b[1;33m\u001b[0m\u001b[0m\n\u001b[0;32m    213\u001b[0m \u001b[1;33m\u001b[0m\u001b[0m\n",
      "\u001b[1;32m~\\Anaconda3\\lib\\site-packages\\skimage\\io\\_plugins\\pil_plugin.py\u001b[0m in \u001b[0;36mimread\u001b[1;34m(fname, dtype, img_num, **kwargs)\u001b[0m\n\u001b[0;32m     33\u001b[0m     \"\"\"\n\u001b[0;32m     34\u001b[0m     \u001b[1;32mif\u001b[0m \u001b[0misinstance\u001b[0m\u001b[1;33m(\u001b[0m\u001b[0mfname\u001b[0m\u001b[1;33m,\u001b[0m \u001b[0mstring_types\u001b[0m\u001b[1;33m)\u001b[0m\u001b[1;33m:\u001b[0m\u001b[1;33m\u001b[0m\u001b[0m\n\u001b[1;32m---> 35\u001b[1;33m         \u001b[1;32mwith\u001b[0m \u001b[0mopen\u001b[0m\u001b[1;33m(\u001b[0m\u001b[0mfname\u001b[0m\u001b[1;33m,\u001b[0m \u001b[1;34m'rb'\u001b[0m\u001b[1;33m)\u001b[0m \u001b[1;32mas\u001b[0m \u001b[0mf\u001b[0m\u001b[1;33m:\u001b[0m\u001b[1;33m\u001b[0m\u001b[0m\n\u001b[0m\u001b[0;32m     36\u001b[0m             \u001b[0mim\u001b[0m \u001b[1;33m=\u001b[0m \u001b[0mImage\u001b[0m\u001b[1;33m.\u001b[0m\u001b[0mopen\u001b[0m\u001b[1;33m(\u001b[0m\u001b[0mf\u001b[0m\u001b[1;33m)\u001b[0m\u001b[1;33m\u001b[0m\u001b[0m\n\u001b[0;32m     37\u001b[0m             \u001b[1;32mreturn\u001b[0m \u001b[0mpil_to_ndarray\u001b[0m\u001b[1;33m(\u001b[0m\u001b[0mim\u001b[0m\u001b[1;33m,\u001b[0m \u001b[0mdtype\u001b[0m\u001b[1;33m=\u001b[0m\u001b[0mdtype\u001b[0m\u001b[1;33m,\u001b[0m \u001b[0mimg_num\u001b[0m\u001b[1;33m=\u001b[0m\u001b[0mimg_num\u001b[0m\u001b[1;33m)\u001b[0m\u001b[1;33m\u001b[0m\u001b[0m\n",
      "\u001b[1;31mKeyboardInterrupt\u001b[0m: "
     ]
    }
   ],
   "source": [
    "import warnings\n",
    "warnings.filterwarnings('ignore')\n",
    "\n",
    "cnn = CNN();\n",
    "criterion = nn.CrossEntropyLoss();\n",
    "optimizer = torch.optim.Adam(cnn.parameters(), lr=learning_rate);\n",
    "\n",
    "losses = [];\n",
    "for epoch in range(num_epochs):\n",
    "    for i, (images, labels, ids) in enumerate(training_generator):\n",
    "        images = Variable(images.float())\n",
    "        labels = Variable(labels)\n",
    "        #print(labels, ids)\n",
    "        # Forward + Backward + Optimize\n",
    "        optimizer.zero_grad()\n",
    "        outputs = cnn(images)\n",
    "        loss = criterion(outputs, labels)\n",
    "        loss.backward()\n",
    "        optimizer.step()\n",
    "        losses.append(loss.data[0]);\n",
    "        #print(i)\n",
    "        if (i+1) % 5 == 0:\n",
    "            print ('Epoch : %d/%d, Iter : %d/%d,  Loss: %.4f' \n",
    "                   %(epoch+1, num_epochs, i+1, len(training_generator)/batch_size, loss.data[0]))"
   ]
  },
  {
   "cell_type": "markdown",
   "metadata": {},
   "source": [
    "## Evaluation of Loss"
   ]
  },
  {
   "cell_type": "code",
   "execution_count": 31,
   "metadata": {},
   "outputs": [
    {
     "data": {
      "image/png": "[encoded data removed]",
      "text/plain": [
       "<Figure size 432x288 with 1 Axes>"
      ]
     },
     "metadata": {},
     "output_type": "display_data"
    }
   ],
   "source": [
    "numpy_list =[]\n",
    "\n",
    "for i in range(int(len(losses))):\n",
    "    numpy_list.append(losses[i].numpy().item(0))\n",
    "\n",
    "range_list = np.arange(int(len(losses)))\n",
    "\n",
    "\n",
    "plt.scatter(range_list, numpy_list)\n",
    "plt.title('Loss per iteration')\n",
    "plt.xlabel('Number of iteration')\n",
    "plt.ylabel('Loss')\n",
    "plt.savefig('iteration_loss_new_acc.png')\n",
    "plt.show()"
   ]
  },
  {
   "cell_type": "code",
   "execution_count": 32,
   "metadata": {},
   "outputs": [
    {
     "data": {
      "image/png": "[encoded data removed]",
      "text/plain": [
       "<Figure size 432x288 with 1 Axes>"
      ]
     },
     "metadata": {},
     "output_type": "display_data"
    }
   ],
   "source": [
    "epoch = numpy_list[25::25]\n",
    "range_list = np.arange(int(len(epoch)))\n",
    "\n",
    "plt.scatter(range_list, epoch)\n",
    "plt.title('Loss per Epoch')\n",
    "plt.xlabel('Number of Epoch')\n",
    "plt.ylabel('Loss')\n",
    "plt.savefig('epoch_loss_new_acc.png')\n",
    "plt.show()\n",
    "\n"
   ]
  },
  {
   "cell_type": "markdown",
   "metadata": {},
   "source": [
    "# Predict & save validation set"
   ]
  },
  {
   "cell_type": "code",
   "execution_count": 33,
   "metadata": {},
   "outputs": [],
   "source": [
    "results = {}\n",
    "\n",
    "cnn.eval()\n",
    "correct = 0\n",
    "total = 0\n",
    "for images, labels, IDs in validation_generator:\n",
    "    images = Variable(images.float())\n",
    "    outputs = cnn(images)\n",
    "    _, predicted = torch.max(outputs.data, 1)\n",
    "    \n",
    "    for i in range(len(predicted)):\n",
    "        results[IDs[i][12:]] = int(predicted[i])"
   ]
  },
  {
   "cell_type": "code",
   "execution_count": 34,
   "metadata": {},
   "outputs": [],
   "source": [
    "df_results = pd.DataFrame.from_dict(results, orient='index').reset_index()\n",
    "df_results.columns = ['image', 'class']\n",
    "df_results.to_csv('results.csv', index=False)"
   ]
  },
  {
   "cell_type": "code",
   "execution_count": null,
   "metadata": {},
   "outputs": [],
   "source": []
  }
 ],
 "metadata": {
  "kernelspec": {
   "display_name": "Python 3",
   "language": "python",
   "name": "python3"
  },
  "language_info": {
   "codemirror_mode": {
    "name": "ipython",
    "version": 3
   },
   "file_extension": ".py",
   "mimetype": "text/x-python",
   "name": "python",
   "nbconvert_exporter": "python",
   "pygments_lexer": "ipython3",
   "version": "3.6.5"
  }
 },
 "nbformat": 4,
 "nbformat_minor": 2
}
